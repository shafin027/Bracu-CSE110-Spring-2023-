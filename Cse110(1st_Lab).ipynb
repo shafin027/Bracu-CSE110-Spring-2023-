{
  "nbformat": 4,
  "nbformat_minor": 0,
  "metadata": {
    "colab": {
      "provenance": []
    },
    "kernelspec": {
      "name": "python3",
      "display_name": "Python 3"
    },
    "language_info": {
      "name": "python"
    }
  },
  "cells": [
    {
      "cell_type": "markdown",
      "source": [
        "Task 1"
      ],
      "metadata": {
        "id": "v8L82EyrkkX7"
      }
    },
    {
      "cell_type": "code",
      "execution_count": null,
      "metadata": {
        "colab": {
          "base_uri": "https://localhost:8080/"
        },
        "id": "CtWDJM39Qd-D",
        "outputId": "8bc1950b-21a1-44e7-9bd9-5a516eaf85c9"
      },
      "outputs": [
        {
          "output_type": "stream",
          "name": "stdout",
          "text": [
            "Hello World\n"
          ]
        }
      ],
      "source": [
        "print(\"Hello World\")"
      ]
    },
    {
      "cell_type": "markdown",
      "source": [
        "Task 2"
      ],
      "metadata": {
        "id": "E20uWucQkoeg"
      }
    },
    {
      "cell_type": "code",
      "source": [
        "num1=54\n",
        "num2=56\n",
        "sum=(num1+num2)\n",
        "print(sum)"
      ],
      "metadata": {
        "colab": {
          "base_uri": "https://localhost:8080/"
        },
        "id": "dYFQW4xKQqVZ",
        "outputId": "2cb109b4-2af7-46ad-ac5c-3491c1f9d58f"
      },
      "execution_count": null,
      "outputs": [
        {
          "output_type": "stream",
          "name": "stdout",
          "text": [
            "110\n"
          ]
        }
      ]
    },
    {
      "cell_type": "markdown",
      "source": [
        "Task 3"
      ],
      "metadata": {
        "id": "aGGfalaxksDC"
      }
    },
    {
      "cell_type": "code",
      "source": [
        "season=\"Fall\"\n",
        "year=\"2022\"\n",
        "\n",
        "print(season)\n",
        "print(year)"
      ],
      "metadata": {
        "colab": {
          "base_uri": "https://localhost:8080/"
        },
        "id": "Q1lydfWPRPEn",
        "outputId": "eba559bb-2153-44f8-cd1b-aa47c41557d9"
      },
      "execution_count": null,
      "outputs": [
        {
          "output_type": "stream",
          "name": "stdout",
          "text": [
            "Fall\n",
            "2022\n"
          ]
        }
      ]
    },
    {
      "cell_type": "markdown",
      "source": [
        "Task 4"
      ],
      "metadata": {
        "id": "mDiAz8g1kutn"
      }
    },
    {
      "cell_type": "code",
      "source": [
        "name1=input(\"Enter Your Name:\")\n",
        "print(\"Your name is\",name1)"
      ],
      "metadata": {
        "colab": {
          "base_uri": "https://localhost:8080/"
        },
        "id": "Ml2qduEKSXJH",
        "outputId": "e44ade61-48cb-492c-8fb3-db6581050155"
      },
      "execution_count": null,
      "outputs": [
        {
          "output_type": "stream",
          "name": "stdout",
          "text": [
            "Enter Your Name:Jhon\n",
            "Your name is Jhon\n"
          ]
        }
      ]
    },
    {
      "cell_type": "markdown",
      "source": [
        "Task 5"
      ],
      "metadata": {
        "id": "fAq5_KP-gxvy"
      }
    },
    {
      "cell_type": "code",
      "source": [
        "M=\"2\"\n",
        "N=\"3\"\n",
        "print(f'{M}^{N}:{int(M)**int(N)}')"
      ],
      "metadata": {
        "colab": {
          "base_uri": "https://localhost:8080/"
        },
        "id": "vhTEaMufUI80",
        "outputId": "a9f41d63-1681-49f0-8d7b-96519007a669"
      },
      "execution_count": null,
      "outputs": [
        {
          "output_type": "stream",
          "name": "stdout",
          "text": [
            "2^3:8\n"
          ]
        }
      ]
    },
    {
      "cell_type": "markdown",
      "source": [
        "Task 6"
      ],
      "metadata": {
        "id": "qXnCzX57iJn6"
      }
    },
    {
      "cell_type": "code",
      "source": [
        "M=int(input(\"Enter the weight value:\"))\n",
        "R=M%4\n",
        "max=(M-R)\n",
        "print(max)\n"
      ],
      "metadata": {
        "colab": {
          "base_uri": "https://localhost:8080/"
        },
        "id": "fz9wfMC4jr-M",
        "outputId": "33e12338-7493-43c9-d0b9-6eb16657ff06"
      },
      "execution_count": null,
      "outputs": [
        {
          "output_type": "stream",
          "name": "stdout",
          "text": [
            "Enter the weight value:23\n",
            "20\n"
          ]
        }
      ]
    },
    {
      "cell_type": "markdown",
      "source": [
        "Task 7"
      ],
      "metadata": {
        "id": "2HhGDtQ0gvDq"
      }
    },
    {
      "cell_type": "code",
      "source": [
        "a=int(input(\"A:\"))\n",
        "b=int(input(\"B:\"))\n",
        "c=int(input(\"C:\"))\n",
        "d=float(input(\"D:\"))\n",
        "sum=int((a**c)+(b*a)-(d/3))\n",
        "print(sum)"
      ],
      "metadata": {
        "colab": {
          "base_uri": "https://localhost:8080/"
        },
        "id": "cPpIvGdcWQs1",
        "outputId": "a5f142dd-612b-4e42-becd-9cba689d7062"
      },
      "execution_count": null,
      "outputs": [
        {
          "output_type": "stream",
          "name": "stdout",
          "text": [
            "A:2\n",
            "B:6\n",
            "C:8\n",
            "D:1.3\n",
            "267\n"
          ]
        }
      ]
    },
    {
      "cell_type": "markdown",
      "source": [
        "Task 8"
      ],
      "metadata": {
        "id": "17lPb9T9grOD"
      }
    },
    {
      "cell_type": "code",
      "source": [
        "x=int(input(\"Enter total chocolate number:\"))\n",
        "M=int((x/3))\n",
        "N=int((x%3))\n",
        "print(\"Each friend will receive \"+str(M),\"chocolates\")\n",
        "print(\"The number of remaining chocolates is \"+str(N))"
      ],
      "metadata": {
        "colab": {
          "base_uri": "https://localhost:8080/"
        },
        "id": "9bkoIgXZYobo",
        "outputId": "172135de-e5aa-4b27-ce0c-0407d6e91bc8"
      },
      "execution_count": null,
      "outputs": [
        {
          "output_type": "stream",
          "name": "stdout",
          "text": [
            "Enter total chocolate number:50\n",
            "Each friend will receive 16 chocolates\n",
            "The number of remaining chocolates is 2\n"
          ]
        }
      ]
    },
    {
      "cell_type": "markdown",
      "source": [
        "Task 9"
      ],
      "metadata": {
        "id": "WZqGSlnQgpRq"
      }
    },
    {
      "cell_type": "code",
      "source": [
        "M=5\n",
        "N=2\n",
        "print(str(N)+str(M))"
      ],
      "metadata": {
        "colab": {
          "base_uri": "https://localhost:8080/"
        },
        "id": "bo4ssYuyd-_2",
        "outputId": "fab6ddcb-8728-4dd8-88b7-50ca610753ba"
      },
      "execution_count": null,
      "outputs": [
        {
          "output_type": "stream",
          "name": "stdout",
          "text": [
            "25\n"
          ]
        }
      ]
    },
    {
      "cell_type": "markdown",
      "source": [
        "Task9"
      ],
      "metadata": {
        "id": "uG7akGENgmoq"
      }
    },
    {
      "cell_type": "code",
      "source": [
        "M=\"Hello\"\n",
        "N=\"World\"\n",
        "print(N+M)"
      ],
      "metadata": {
        "colab": {
          "base_uri": "https://localhost:8080/"
        },
        "id": "y_RQJUvAUJD0",
        "outputId": "51c1bbaa-a8ca-4783-80d4-d380e43afedd"
      },
      "execution_count": null,
      "outputs": [
        {
          "output_type": "stream",
          "name": "stdout",
          "text": [
            "WorldHello\n"
          ]
        }
      ]
    },
    {
      "cell_type": "markdown",
      "source": [
        "Task9"
      ],
      "metadata": {
        "id": "DNnTabuTgjw7"
      }
    },
    {
      "cell_type": "code",
      "source": [
        "M=\"Python\"\n",
        "N=\"3\"\n",
        "print(N+M)"
      ],
      "metadata": {
        "colab": {
          "base_uri": "https://localhost:8080/"
        },
        "id": "6fcwpL2ae7NE",
        "outputId": "51fb1a33-09d1-4606-db3c-dd63445664b3"
      },
      "execution_count": null,
      "outputs": [
        {
          "output_type": "stream",
          "name": "stdout",
          "text": [
            "3Python\n"
          ]
        }
      ]
    },
    {
      "cell_type": "markdown",
      "source": [
        "Task 10"
      ],
      "metadata": {
        "id": "BpUhl_JnOabY"
      }
    },
    {
      "cell_type": "code",
      "source": [
        "s=input(\"Enter the line:\")\n",
        "print(s[0])"
      ],
      "metadata": {
        "colab": {
          "base_uri": "https://localhost:8080/"
        },
        "id": "lis2ZP5QOZrT",
        "outputId": "de2b861d-bb23-4951-eb8d-a0ac76bb5f64"
      },
      "execution_count": null,
      "outputs": [
        {
          "output_type": "stream",
          "name": "stdout",
          "text": [
            "Enter the line:The quick brown fox jumps over the lazy dog\n",
            "T\n"
          ]
        }
      ]
    }
  ]
}